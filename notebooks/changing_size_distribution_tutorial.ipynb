{
 "cells": [
  {
   "cell_type": "markdown",
   "id": "fda497ac",
   "metadata": {},
   "source": [
    "# Customizing the Grain Size Distribution"
   ]
  },
  {
   "cell_type": "markdown",
   "id": "041820a5",
   "metadata": {},
   "source": [
    "This notebook illustrates how to use the provided cross section .fits files to compute the extinction, emission, and polarization from dust with arbitrary size distributions. The files needed to run this notebook are available here: https://doi.org/10.7910/DVN/PEXRD0.\n",
    "\n",
    "Please cite [Hensley & Draine 2022](https://arxiv.org/abs/2208.12365) if using these data and/or code."
   ]
  },
  {
   "cell_type": "code",
   "execution_count": 1,
   "id": "58374c4f",
   "metadata": {},
   "outputs": [],
   "source": [
    "import numpy as np\n",
    "from astropy.io import fits\n",
    "from astropy import units as u\n",
    "\n",
    "import matplotlib\n",
    "matplotlib.rc('text', usetex=True)\n",
    "import matplotlib.pyplot as plt"
   ]
  },
  {
   "cell_type": "markdown",
   "id": "648baa75",
   "metadata": {},
   "source": [
    "Read in the cross section files"
   ]
  },
  {
   "cell_type": "code",
   "execution_count": 2,
   "id": "ff375080",
   "metadata": {},
   "outputs": [
    {
     "name": "stdout",
     "output_type": "stream",
     "text": [
      "Filename: astrodust_csecs.fits\n",
      "No.    Name      Ver    Type      Cards   Dimensions   Format\n",
      "  0  PRIMARY       1 PrimaryHDU      17   ()      \n",
      "  1  EFFECTIVE RADIUS    1 ImageHDU         8   (167,)   float64   \n",
      "  2  WAVELENGTH    1 ImageHDU         8   (1000,)   float64   \n",
      "  3  LOG10 U       1 ImageHDU         8   (91,)   float64   \n",
      "  4  C_ABS         1 ImageHDU         9   (167, 1000)   float64   \n",
      "  5  C_SCA         1 ImageHDU         9   (167, 1000)   float64   \n",
      "  6  C_EXT         1 ImageHDU         9   (167, 1000)   float64   \n",
      "  7  C_ABS^POL     1 ImageHDU         9   (167, 1000)   float64   \n",
      "  8  C_EXT^POL     1 ImageHDU         9   (167, 1000)   float64   \n",
      "  9  C_ABS*NUBNU(T)    1 ImageHDU        10   (167, 91, 1000)   float64   \n",
      " 10  C_ABS^POL*NUBNU(T)    1 ImageHDU        10   (167, 91, 1000)   float64   \n",
      "\n",
      "Filename: cion_csecs.fits\n",
      "No.    Name      Ver    Type      Cards   Dimensions   Format\n",
      "  0  PRIMARY       1 PrimaryHDU      15   ()      \n",
      "  1  EFFECTIVE RADIUS    1 ImageHDU         8   (167,)   float64   \n",
      "  2  WAVELENGTH    1 ImageHDU         8   (1000,)   float64   \n",
      "  3  LOG10 U       1 ImageHDU         8   (91,)   float64   \n",
      "  4  C_ABS         1 ImageHDU         9   (167, 1000)   float64   \n",
      "  5  C_SCA         1 ImageHDU         9   (167, 1000)   float64   \n",
      "  6  C_EXT         1 ImageHDU         9   (167, 1000)   float64   \n",
      "  7  C_ABS*NUBNU(T)    1 ImageHDU        10   (167, 91, 1000)   float64   \n",
      "\n",
      "Filename: cneu_csecs.fits\n",
      "No.    Name      Ver    Type      Cards   Dimensions   Format\n",
      "  0  PRIMARY       1 PrimaryHDU      15   ()      \n",
      "  1  EFFECTIVE RADIUS    1 ImageHDU         8   (167,)   float64   \n",
      "  2  WAVELENGTH    1 ImageHDU         8   (1000,)   float64   \n",
      "  3  LOG10 U       1 ImageHDU         8   (91,)   float64   \n",
      "  4  C_ABS         1 ImageHDU         9   (167, 1000)   float64   \n",
      "  5  C_SCA         1 ImageHDU         9   (167, 1000)   float64   \n",
      "  6  C_EXT         1 ImageHDU         9   (167, 1000)   float64   \n",
      "  7  C_ABS*NUBNU(T)    1 ImageHDU        10   (167, 91, 1000)   float64   \n"
     ]
    }
   ],
   "source": [
    "hdul_ad = fits.open('astrodust_csecs.fits')\n",
    "hdul_ad.info()\n",
    "print('')\n",
    "hdul_cion = fits.open('cion_csecs.fits')\n",
    "hdul_cion.info()\n",
    "hdul_cneu = fits.open('cneu_csecs.fits')\n",
    "print('')\n",
    "hdul_cneu.info()"
   ]
  },
  {
   "cell_type": "markdown",
   "id": "e29dc9c8",
   "metadata": {},
   "source": [
    "First, we implement the parametric size distribution functions from Hensley & Draine 2022, including $f_{\\rm ion}$ and $f_{\\rm align}$. The size distribution functions for composition $i$ return $(1/n_{\\rm H})dn_i/da$ (see Equations 18 and 25)."
   ]
  },
  {
   "cell_type": "code",
   "execution_count": 3,
   "id": "46053b47",
   "metadata": {},
   "outputs": [],
   "source": [
    "# PAHs/graphite (\"car\"bonaceous grains)\n",
    "def size_car(a01, a02, sigma1, sigma2, amin, B1, B2, rad):    \n",
    "    car1 = (B1/rad)*np.exp(-0.5*(np.log(rad/a01)/sigma1)**2)\n",
    "    car2 = (B2/rad)*np.exp(-0.5*(np.log(rad/a02)/sigma2)**2)\n",
    "    \n",
    "    dnda = car1 + car2\n",
    "    dnda[rad < amin] = 0.\n",
    "    return dnda\n",
    "\n",
    "# Astrodust\n",
    "def size_Ad(Ad0, Ad1, Ad2, Ad3, Ad4, Ad5, a0, BAd, sigma, amin, rad):\n",
    "    xrad = np.log(rad.to(u.AA).value)\n",
    "    \n",
    "    Ad_log = (BAd/rad)*np.exp(-0.5*(np.log(rad/a0)/sigma)**2)\n",
    "    Ad_poly = (Ad0/rad)*np.exp(Ad1*xrad + Ad2*xrad**2 + \n",
    "                               Ad3*xrad**3 + Ad4*xrad**4 + \n",
    "                               Ad5*xrad**5)\n",
    "    \n",
    "    dnda = Ad_log + Ad_poly\n",
    "    dnda[rad < amin] = 0.\n",
    "    return dnda\n",
    "\n",
    "# PAH ionization\n",
    "def f_ion_func(a_h, rad):\n",
    "    fion = 1. - 1./(1. + rad/a_h)\n",
    "    return fion\n",
    "\n",
    "# Alignment\n",
    "def f_align_func(a_align, alpha_align, f_max, rad):\n",
    "    return f_max/(1.+(a_align/rad)**alpha_align)"
   ]
  },
  {
   "cell_type": "markdown",
   "id": "34fbc5fc",
   "metadata": {},
   "source": [
    "Next, we extract the radius information from the fits file. Note that the radius grid is the same for all grain compositions, so we need to read it in once only. In this notebook, we'll use astropy.units to prevent errors changing between cm, $\\mu$m, and $\\unicode[serif]{xC5}$."
   ]
  },
  {
   "cell_type": "code",
   "execution_count": 4,
   "id": "68f95e95",
   "metadata": {},
   "outputs": [],
   "source": [
    "rad = hdul_ad[1].data*u.um"
   ]
  },
  {
   "cell_type": "markdown",
   "id": "171dd276",
   "metadata": {},
   "source": [
    "We'll first use the default model parameters from Hensley & Draine 2022 (Table 1)."
   ]
  },
  {
   "cell_type": "code",
   "execution_count": 5,
   "id": "d2b3c748",
   "metadata": {},
   "outputs": [],
   "source": [
    "B1 = 7.52e-7\n",
    "B2 = 8.09e-10\n",
    "BAd = 3.31e-10\n",
    "a0_Ad = 63.8*u.AA\n",
    "sigma_Ad = 0.353\n",
    "A0 = 2.97e-5\n",
    "A1 = -3.40\n",
    "A2 = -0.807\n",
    "A3 = 0.157\n",
    "A4 = 7.96e-3\n",
    "A5 = -1.68e-3\n",
    "a_align = 0.0749*u.um\n",
    "alpha_align = 1.80\n",
    "f_max = 1.00"
   ]
  },
  {
   "cell_type": "markdown",
   "id": "deff6d26",
   "metadata": {},
   "source": [
    "There are a few additional parameters of the PAH size distribution defined in Section 3.2:"
   ]
  },
  {
   "cell_type": "code",
   "execution_count": 6,
   "id": "d839c27c",
   "metadata": {},
   "outputs": [],
   "source": [
    "amin_PAH = 4.0*u.AA\n",
    "a0_1 = 4.0*u.AA\n",
    "a0_2 = 30*u.AA\n",
    "sigma1_PAH = 0.40\n",
    "sigma2_PAH = 0.40"
   ]
  },
  {
   "cell_type": "markdown",
   "id": "078c8e0e",
   "metadata": {},
   "source": [
    "Finally, the mininum grain size for astrodust is defined in Section 3.1:"
   ]
  },
  {
   "cell_type": "code",
   "execution_count": 7,
   "id": "556de6ac",
   "metadata": {},
   "outputs": [],
   "source": [
    "amin_Ad = 4.5*u.AA"
   ]
  },
  {
   "cell_type": "markdown",
   "id": "33497187",
   "metadata": {},
   "source": [
    "Now we can compute the $\\left(1/n_{\\rm H}\\right)dn/da$."
   ]
  },
  {
   "cell_type": "code",
   "execution_count": 8,
   "id": "15e61872",
   "metadata": {},
   "outputs": [],
   "source": [
    "dnda_Ad = size_Ad(A0, A1, A2, A3, A4, A5, a0_Ad, BAd, sigma_Ad, amin_Ad, rad)\n",
    "dnda_PAH = size_car(a0_1, a0_2, sigma1_PAH, sigma2_PAH, amin_PAH, B1, B2, rad)"
   ]
  },
  {
   "cell_type": "markdown",
   "id": "bfa9e53d",
   "metadata": {},
   "source": [
    "With a little bit of manipulation, we can reproduce the size distributions shown in Figure 1 of Hensley & Draine 2022. Note that $d\\ln a = da/a$."
   ]
  },
  {
   "cell_type": "code",
   "execution_count": 9,
   "id": "3bf9c749",
   "metadata": {},
   "outputs": [
    {
     "data": {
      "image/png": "[encoded data removed]",
      "text/plain": [
       "<Figure size 504x432 with 1 Axes>"
      ]
     },
     "metadata": {
      "needs_background": "light"
     },
     "output_type": "display_data"
    }
   ],
   "source": [
    "fig, ax = plt.subplots(1,1,figsize=(7., 6.))\n",
    "ax.set_xscale('log')\n",
    "ax.set_yscale('log')\n",
    "ax.set_xlabel(r'$a\\ [\\mu{\\rm m}]$',fontsize=22)\n",
    "ax.set_ylabel(r'$(4\\pi/3)a^3\\ dn/d\\ln a/n_{\\rm H}\\ [{\\rm cm}^3\\ \\rm{H}^{-1}]$',fontsize=22)\n",
    "ax.tick_params(axis='both', which='both', labelsize=20,\n",
    "                 bottom=True, top=True, left=True, right=True,\n",
    "                 direction='in')\n",
    "ax.axis([3.e-4, 1., 1.e-30, 1.e-26])\n",
    "\n",
    "idx = np.where(dnda_Ad > 0.)\n",
    "ax.plot(rad[idx].to(u.um),(dnda_Ad[idx]*np.pi*(4./3.)*rad[idx]**4).to(u.cm**3),color='#e41a1c',\n",
    "           linestyle='-', label=r'${\\rm Astrodust}$')\n",
    "idx = np.where(dnda_PAH > 0.)\n",
    "ax.plot(rad[idx].to(u.um),(dnda_PAH[idx]*np.pi*(4./3.)*rad[idx]**4).to(u.cm**3),color='#0868ac',\n",
    "           linestyle='-', label=r'${\\rm PAHs}$')\n",
    "ax.legend(loc='upper left', frameon=False, prop={'size': 20});"
   ]
  },
  {
   "cell_type": "markdown",
   "id": "4662860c",
   "metadata": {},
   "source": [
    "For subsequent calculations, it is convenient to compute $(1/n_{\\rm H}) dn_i$, i.e., the number of grains per H atom in each size bin. This is simply $(1/n_{\\rm H})(dn/da)da$. The $(1/n_{\\rm H}) dn_i$ are the values provided in the available size distribution files. Note that the radii are logspaced with with $d\\ln a = 0.0576$."
   ]
  },
  {
   "cell_type": "code",
   "execution_count": 10,
   "id": "884faf0b",
   "metadata": {},
   "outputs": [],
   "source": [
    "dlna = np.log(rad[20]/rad[0])/20.\n",
    "dn_Ad = dnda_Ad*rad*dlna\n",
    "dn_PAH = dnda_PAH*rad*dlna"
   ]
  },
  {
   "cell_type": "markdown",
   "id": "035adec7",
   "metadata": {},
   "source": [
    "We'll need to distinguish between neutral and ionized PAHs, so let's compute $f_{\\rm ion}$."
   ]
  },
  {
   "cell_type": "code",
   "execution_count": 11,
   "id": "710542ad",
   "metadata": {},
   "outputs": [],
   "source": [
    "a_h = 10*u.AA # Standard ionization (Equation 20)\n",
    "f_ion = f_ion_func(a_h, rad)"
   ]
  },
  {
   "cell_type": "markdown",
   "id": "0a111b0e",
   "metadata": {},
   "source": [
    "Finally, we're ready to use the cross sections. Let's start with extinction."
   ]
  },
  {
   "cell_type": "code",
   "execution_count": 12,
   "id": "e09415d4",
   "metadata": {},
   "outputs": [],
   "source": [
    "cext_Ad = hdul_ad[6].data*u.cm**2\n",
    "cext_cion = hdul_cion[6].data*u.cm**2\n",
    "cext_cneu = hdul_cneu[6].data*u.cm**2\n",
    "cext_PAH = f_ion*cext_cion + (1.-f_ion)*cext_cneu"
   ]
  },
  {
   "cell_type": "markdown",
   "id": "3b3f36fc",
   "metadata": {},
   "source": [
    "To compute the total extinction, we need simply to integrate $C^{\\rm ext}$ over the size distribution (Equation 4). The \"cext\" variables are 2D arrays of size and wavelength, so we collapse the size dimension with the sum."
   ]
  },
  {
   "cell_type": "code",
   "execution_count": 13,
   "id": "eae3f61f",
   "metadata": {},
   "outputs": [],
   "source": [
    "tau_Ad = np.sum(cext_Ad*dn_Ad, axis=1)\n",
    "tau_PAH = np.sum(cext_PAH*dn_PAH, axis=1)"
   ]
  },
  {
   "cell_type": "markdown",
   "id": "10ff61d0",
   "metadata": {},
   "source": [
    "The wavelength vector is provided in HDU 2 and is the same for all compositions."
   ]
  },
  {
   "cell_type": "code",
   "execution_count": 14,
   "id": "e6d76ef8",
   "metadata": {},
   "outputs": [],
   "source": [
    "wav = hdul_ad[2].data*u.um"
   ]
  },
  {
   "cell_type": "code",
   "execution_count": 15,
   "id": "fd642037",
   "metadata": {},
   "outputs": [
    {
     "data": {
      "image/png": "[encoded data removed]",
      "text/plain": [
       "<Figure size 252x216 with 1 Axes>"
      ]
     },
     "metadata": {
      "needs_background": "light"
     },
     "output_type": "display_data"
    }
   ],
   "source": [
    "fig, ax = plt.subplots(1,1,figsize=(3.5, 3.))\n",
    "ax.set_xscale('log')\n",
    "ax.set_yscale('log')\n",
    "ax.set_xlabel(r'$\\lambda\\ [\\mu{\\rm m}]$', fontsize=12)\n",
    "ax.set_ylabel(r'$\\tau_\\lambda/N_{\\rm H}\\ [{\\rm cm}^{2}\\ {\\rm H}^{-1}]$',\n",
    "                 fontsize=12)\n",
    "ax.tick_params(axis='both', which='major', labelsize=8)\n",
    "ax.axis([0.1, 40.,  5.e-25, 3.e-21])\n",
    "ax.get_xaxis().set_major_formatter(matplotlib.ticker.ScalarFormatter())\n",
    "ax.tick_params(axis='both', which='both', labelsize=8,\n",
    "                 bottom=True, top=True, left=True, right=True,\n",
    "                 direction='in')\n",
    "\n",
    "ax.plot(wav.to(u.um), tau_Ad.to(u.cm**2), linestyle='--', color='#e41a1c', label=r'${\\rm Astrodust}$')\n",
    "ax.plot(wav.to(u.um), tau_PAH.to(u.cm**2), linestyle='--', color='#0868ac', label=r'${\\rm PAHs}$')\n",
    "ax.plot(wav.to(u.um), (tau_Ad+tau_PAH).to(u.cm**2), linestyle='-', color='k', label=r'${\\rm Total}$', zorder=0)\n",
    "ax.legend(loc='upper right', frameon=False, prop={'size': 10});"
   ]
  },
  {
   "cell_type": "markdown",
   "id": "b33269cf",
   "metadata": {},
   "source": [
    "To compute polarized extinction, we first need the alignment function and the polarization cross sections for astrodust."
   ]
  },
  {
   "cell_type": "code",
   "execution_count": 16,
   "id": "27b48895",
   "metadata": {},
   "outputs": [],
   "source": [
    "f_Ad = f_align_func(a_align, alpha_align, f_max, rad)\n",
    "cextpol_Ad = hdul_ad[8].data*u.cm**2"
   ]
  },
  {
   "cell_type": "markdown",
   "id": "a94fb6b1",
   "metadata": {},
   "source": [
    "Now it is just a matter of summing over the size distribution (Equation 6)."
   ]
  },
  {
   "cell_type": "code",
   "execution_count": 17,
   "id": "cafcee0b",
   "metadata": {},
   "outputs": [],
   "source": [
    "extpol_Ad = np.sum(cextpol_Ad*f_Ad*dn_Ad, axis=1)"
   ]
  },
  {
   "cell_type": "code",
   "execution_count": 18,
   "id": "924f4ab5",
   "metadata": {},
   "outputs": [
    {
     "data": {
      "image/png": "[encoded data removed]",
      "text/plain": [
       "<Figure size 252x216 with 1 Axes>"
      ]
     },
     "metadata": {
      "needs_background": "light"
     },
     "output_type": "display_data"
    }
   ],
   "source": [
    "fig, ax = plt.subplots(1,1,figsize=(3.5, 3.))\n",
    "ax.set_xscale('log')\n",
    "ax.set_yscale('log')\n",
    "ax.set_xlabel(r'$\\lambda\\ [\\mu{\\rm m}]$', fontsize=12)\n",
    "ax.set_ylabel(r'$\\left(p_\\lambda/N_{\\rm H}\\right)^{\\rm max}\\ [{\\rm cm}^{2}\\ {\\rm H}^{-1}]$',\n",
    "                 fontsize=12)\n",
    "ax.tick_params(axis='both', which='major', labelsize=8)\n",
    "ax.axis([0.1, 40.,  5.e-25, 3.e-23])\n",
    "ax.get_xaxis().set_major_formatter(matplotlib.ticker.ScalarFormatter())\n",
    "ax.tick_params(axis='both', which='both', labelsize=8,\n",
    "                 bottom=True, top=True, left=True, right=True,\n",
    "                 direction='in')\n",
    "\n",
    "ax.plot(wav.to(u.um), extpol_Ad.to(u.cm**2), linestyle='-', color='k');"
   ]
  },
  {
   "cell_type": "markdown",
   "id": "0ed000e0",
   "metadata": {},
   "source": [
    "Computing emission requires knowledge of the intensity of the radiation heating the dust, which we parameterize with $\\log_{10} U$. For each value of $U$, we compute the distribution of grain temperatures for each grain size and composition. The cross section fits files provide $\\int dT \\left(dP/dT\\right) C^{\\rm abs}\\left(\\lambda, a\\right) \\nu B_\\nu\\left(T\\right)$, which is needed to compute the emission (Equation 8)."
   ]
  },
  {
   "cell_type": "code",
   "execution_count": 19,
   "id": "0fe62380",
   "metadata": {},
   "outputs": [],
   "source": [
    "cabsBnu_Ad = hdul_ad[9].data*u.erg/u.s\n",
    "cabsBnu_cion = hdul_cion[7].data*u.erg/u.s\n",
    "cabsBnu_cneu = hdul_cneu[7].data*u.erg/u.s\n",
    "cabsBnu_PAH = f_ion*cabsBnu_cion + (1.-f_ion)*cabsBnu_cneu"
   ]
  },
  {
   "cell_type": "markdown",
   "id": "d1dde1eb",
   "metadata": {},
   "source": [
    "After we integrate the cross sections over the size distribution, we are left with a 2D array giving emission as a function of wavelength and U. The grid of log10 U values is given in HDU 3."
   ]
  },
  {
   "cell_type": "code",
   "execution_count": 20,
   "id": "fdcccc89",
   "metadata": {},
   "outputs": [],
   "source": [
    "logU = hdul_ad[3].data\n",
    "irem_mat_Ad = np.sum(cabsBnu_Ad*dn_Ad, axis=2)\n",
    "irem_mat_PAH = np.sum(cabsBnu_PAH*dn_PAH, axis=2)"
   ]
  },
  {
   "cell_type": "markdown",
   "id": "b3a41e3f",
   "metadata": {},
   "source": [
    "The \"irem_mat\" variables are the 2D arrays provided in the model files."
   ]
  },
  {
   "cell_type": "code",
   "execution_count": 21,
   "id": "7de30101",
   "metadata": {},
   "outputs": [
    {
     "data": {
      "image/png": "[encoded data removed]",
      "text/plain": [
       "<Figure size 252x216 with 1 Axes>"
      ]
     },
     "metadata": {
      "needs_background": "light"
     },
     "output_type": "display_data"
    }
   ],
   "source": [
    "u_idx = np.argmin(np.abs(logU - 0.2)) # We could use interpolation here, \n",
    "                                      # but 0.2 is a provided value\n",
    "    \n",
    "fig, ax = plt.subplots(1,1,figsize=(3.5, 3.))\n",
    "ax.set_xscale('log')\n",
    "ax.set_yscale('log')\n",
    "ax.set_xlabel(r'$\\lambda\\ [\\mu{\\rm m}]$', fontsize=12)\n",
    "ax.set_ylabel(r'$\\lambda I_\\lambda/N_{\\rm H}\\ [{\\rm erg}\\ {\\rm s}^{-1}\\ {\\rm sr}^{-1}\\ {\\rm H}^{-1}]$',\n",
    "                 fontsize=9)\n",
    "ax.tick_params(axis='both', which='major', labelsize=8)\n",
    "ax.axis([2., 3.e4,  1.e-32, 1.e-24])\n",
    "ax.get_xaxis().set_major_formatter(matplotlib.ticker.ScalarFormatter())\n",
    "ax.tick_params(axis='both', which='both', labelsize=8,\n",
    "                 bottom=True, top=True, left=True, right=True,\n",
    "                 direction='in')\n",
    "\n",
    "ax.plot(wav.to(u.um), irem_mat_Ad[:,u_idx].to(u.erg/u.s), linestyle='--', color='#e41a1c', label=r'${\\rm Astrodust}$')\n",
    "ax.plot(wav.to(u.um), irem_mat_PAH[:,u_idx].to(u.erg/u.s), linestyle='--', color='#0868ac', label=r'${\\rm PAHs}$')\n",
    "ax.plot(wav.to(u.um), (irem_mat_Ad[:,u_idx]+irem_mat_PAH[:,u_idx]).to(u.erg/u.s), linestyle='-', color='k', label=r'${\\rm Total}$', zorder=0)\n",
    "\n",
    "ax.legend(loc='lower left', frameon=False, prop={'size': 10});"
   ]
  },
  {
   "cell_type": "markdown",
   "id": "ee9669c9",
   "metadata": {},
   "source": [
    "The same holds in polarization, though there is no PAH component."
   ]
  },
  {
   "cell_type": "code",
   "execution_count": 22,
   "id": "1c8e56e9",
   "metadata": {},
   "outputs": [],
   "source": [
    "cabspolBnu_Ad = hdul_ad[10].data*u.erg/u.s\n",
    "ipol_mat_Ad = np.sum(cabspolBnu_Ad*f_Ad*dn_Ad, axis=2)"
   ]
  },
  {
   "cell_type": "code",
   "execution_count": 23,
   "id": "80866e17",
   "metadata": {},
   "outputs": [
    {
     "data": {
      "image/png": "[encoded data removed]",
      "text/plain": [
       "<Figure size 252x216 with 1 Axes>"
      ]
     },
     "metadata": {
      "needs_background": "light"
     },
     "output_type": "display_data"
    }
   ],
   "source": [
    "fig, ax = plt.subplots(1,1,figsize=(3.5, 3.))\n",
    "ax.set_xscale('log')\n",
    "ax.set_yscale('log')\n",
    "ax.set_xlabel(r'$\\lambda\\ [\\mu{\\rm m}]$', fontsize=12)\n",
    "ax.set_ylabel(r'$\\left(\\lambda P_\\lambda/N_{\\rm H}\\right)^{\\rm max}\\ [{\\rm erg}\\ {\\rm s}^{-1}\\ {\\rm sr}^{-1}\\ {\\rm H}^{-1}]$',\n",
    "                 fontsize=9)\n",
    "ax.tick_params(axis='both', which='major', labelsize=8)\n",
    "ax.axis([2., 3.e4,  1.e-32, 1.e-25])\n",
    "ax.get_xaxis().set_major_formatter(matplotlib.ticker.ScalarFormatter())\n",
    "ax.tick_params(axis='both', which='both', labelsize=8,\n",
    "                 bottom=True, top=True, left=True, right=True,\n",
    "                 direction='in')\n",
    "\n",
    "ax.plot(wav.to(u.um), ipol_mat_Ad[:,u_idx].to(u.erg/u.s), linestyle='-', color='k');"
   ]
  },
  {
   "cell_type": "markdown",
   "id": "99d574c1",
   "metadata": {},
   "source": [
    "The input size distributions (and $f_{\\rm ion}$ and $f_{\\rm align}$) can be changed as you like to produce different extinction curves and emission spectra, both total and polarized. "
   ]
  },
  {
   "cell_type": "code",
   "execution_count": null,
   "id": "a17b9b38",
   "metadata": {},
   "outputs": [],
   "source": []
  }
 ],
 "metadata": {
  "kernelspec": {
   "display_name": "Python 3 (ipykernel)",
   "language": "python",
   "name": "python3"
  },
  "language_info": {
   "codemirror_mode": {
    "name": "ipython",
    "version": 3
   },
   "file_extension": ".py",
   "mimetype": "text/x-python",
   "name": "python",
   "nbconvert_exporter": "python",
   "pygments_lexer": "ipython3",
   "version": "3.8.3"
  }
 },
 "nbformat": 4,
 "nbformat_minor": 5
}
